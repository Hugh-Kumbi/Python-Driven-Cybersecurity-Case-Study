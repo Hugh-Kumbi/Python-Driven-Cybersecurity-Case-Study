{
  "metadata": {
    "kernelspec": {
      "name": "python",
      "display_name": "Python (Pyodide)",
      "language": "python"
    },
    "language_info": {
      "codemirror_mode": {
        "name": "python",
        "version": 3
      },
      "file_extension": ".py",
      "mimetype": "text/x-python",
      "name": "python",
      "nbconvert_exporter": "python",
      "pygments_lexer": "ipython3",
      "version": "3.8"
    },
    "colab": {
      "provenance": []
    },
    "widgets": {
      "application/vnd.jupyter.widget-state+json": {
        "a4b50079ca9a4e71bcec44c46b374f36": {
          "model_module": "@jupyter-widgets/controls",
          "model_name": "DropdownModel",
          "model_module_version": "1.5.0",
          "state": {
            "_dom_classes": [],
            "_model_module": "@jupyter-widgets/controls",
            "_model_module_version": "1.5.0",
            "_model_name": "DropdownModel",
            "_options_labels": [
              "vanessa",
              "kevin",
              "maria",
              "tamara"
            ],
            "_view_count": null,
            "_view_module": "@jupyter-widgets/controls",
            "_view_module_version": "1.5.0",
            "_view_name": "DropdownView",
            "description": "Username:",
            "description_tooltip": null,
            "disabled": false,
            "index": 3,
            "layout": "IPY_MODEL_4a784da92c464259b750a23fdd15e1a4",
            "style": "IPY_MODEL_5f9f5d0258544bdf8de44ae968fef317"
          }
        },
        "4a784da92c464259b750a23fdd15e1a4": {
          "model_module": "@jupyter-widgets/base",
          "model_name": "LayoutModel",
          "model_module_version": "1.2.0",
          "state": {
            "_model_module": "@jupyter-widgets/base",
            "_model_module_version": "1.2.0",
            "_model_name": "LayoutModel",
            "_view_count": null,
            "_view_module": "@jupyter-widgets/base",
            "_view_module_version": "1.2.0",
            "_view_name": "LayoutView",
            "align_content": null,
            "align_items": null,
            "align_self": null,
            "border": null,
            "bottom": null,
            "display": null,
            "flex": null,
            "flex_flow": null,
            "grid_area": null,
            "grid_auto_columns": null,
            "grid_auto_flow": null,
            "grid_auto_rows": null,
            "grid_column": null,
            "grid_gap": null,
            "grid_row": null,
            "grid_template_areas": null,
            "grid_template_columns": null,
            "grid_template_rows": null,
            "height": null,
            "justify_content": null,
            "justify_items": null,
            "left": null,
            "margin": null,
            "max_height": null,
            "max_width": null,
            "min_height": null,
            "min_width": null,
            "object_fit": null,
            "object_position": null,
            "order": null,
            "overflow": null,
            "overflow_x": null,
            "overflow_y": null,
            "padding": null,
            "right": null,
            "top": null,
            "visibility": null,
            "width": "40%"
          }
        },
        "5f9f5d0258544bdf8de44ae968fef317": {
          "model_module": "@jupyter-widgets/controls",
          "model_name": "DescriptionStyleModel",
          "model_module_version": "1.5.0",
          "state": {
            "_model_module": "@jupyter-widgets/controls",
            "_model_module_version": "1.5.0",
            "_model_name": "DescriptionStyleModel",
            "_view_count": null,
            "_view_module": "@jupyter-widgets/base",
            "_view_module_version": "1.2.0",
            "_view_name": "StyleView",
            "description_width": ""
          }
        },
        "b9e70b94e8ee4464a0a091186d0e1c8c": {
          "model_module": "@jupyter-widgets/output",
          "model_name": "OutputModel",
          "model_module_version": "1.0.0",
          "state": {
            "_dom_classes": [],
            "_model_module": "@jupyter-widgets/output",
            "_model_module_version": "1.0.0",
            "_model_name": "OutputModel",
            "_view_count": null,
            "_view_module": "@jupyter-widgets/output",
            "_view_module_version": "1.0.0",
            "_view_name": "OutputView",
            "layout": "IPY_MODEL_b76071f5976546aabfb31795543defc9",
            "msg_id": "",
            "outputs": [
              {
                "output_type": "stream",
                "name": "stdout",
                "text": [
                  "Username: tamara\n",
                  "Current Day Logins: 7\n",
                  "Average Day Logins: 3\n"
                ]
              }
            ]
          }
        },
        "b76071f5976546aabfb31795543defc9": {
          "model_module": "@jupyter-widgets/base",
          "model_name": "LayoutModel",
          "model_module_version": "1.2.0",
          "state": {
            "_model_module": "@jupyter-widgets/base",
            "_model_module_version": "1.2.0",
            "_model_name": "LayoutModel",
            "_view_count": null,
            "_view_module": "@jupyter-widgets/base",
            "_view_module_version": "1.2.0",
            "_view_name": "LayoutView",
            "align_content": null,
            "align_items": null,
            "align_self": null,
            "border": null,
            "bottom": null,
            "display": null,
            "flex": null,
            "flex_flow": null,
            "grid_area": null,
            "grid_auto_columns": null,
            "grid_auto_flow": null,
            "grid_auto_rows": null,
            "grid_column": null,
            "grid_gap": null,
            "grid_row": null,
            "grid_template_areas": null,
            "grid_template_columns": null,
            "grid_template_rows": null,
            "height": null,
            "justify_content": null,
            "justify_items": null,
            "left": null,
            "margin": null,
            "max_height": null,
            "max_width": null,
            "min_height": null,
            "min_width": null,
            "object_fit": null,
            "object_position": null,
            "order": null,
            "overflow": null,
            "overflow_x": null,
            "overflow_y": null,
            "padding": null,
            "right": null,
            "top": null,
            "visibility": null,
            "width": null
          }
        },
        "9493a9fd0c964e4f802b602e80d4149b": {
          "model_module": "@jupyter-widgets/controls",
          "model_name": "VBoxModel",
          "model_module_version": "1.5.0",
          "state": {
            "_dom_classes": [],
            "_model_module": "@jupyter-widgets/controls",
            "_model_module_version": "1.5.0",
            "_model_name": "VBoxModel",
            "_view_count": null,
            "_view_module": "@jupyter-widgets/controls",
            "_view_module_version": "1.5.0",
            "_view_name": "VBoxView",
            "box_style": "",
            "children": [
              "IPY_MODEL_9026f642082f40e9b32b300e137377d1",
              "IPY_MODEL_c3ecf2edb078418295ad5d832c283c27",
              "IPY_MODEL_8afd8b6c823f4f27ab5d92ed066518f9"
            ],
            "layout": "IPY_MODEL_496014afe58846c4a149901a27d09f24"
          }
        },
        "9026f642082f40e9b32b300e137377d1": {
          "model_module": "@jupyter-widgets/controls",
          "model_name": "DropdownModel",
          "model_module_version": "1.5.0",
          "state": {
            "_dom_classes": [],
            "_model_module": "@jupyter-widgets/controls",
            "_model_module_version": "1.5.0",
            "_model_name": "DropdownModel",
            "_options_labels": [
              "vanessa",
              "kevin",
              "maria",
              "tamara"
            ],
            "_view_count": null,
            "_view_module": "@jupyter-widgets/controls",
            "_view_module_version": "1.5.0",
            "_view_name": "DropdownView",
            "description": "Username:",
            "description_tooltip": null,
            "disabled": false,
            "index": 3,
            "layout": "IPY_MODEL_6eb208c5cf904ceead4275eaf789a059",
            "style": "IPY_MODEL_2034d3870fdb4c7c8d53fee05b8c4207"
          }
        },
        "c3ecf2edb078418295ad5d832c283c27": {
          "model_module": "@jupyter-widgets/controls",
          "model_name": "ButtonModel",
          "model_module_version": "1.5.0",
          "state": {
            "_dom_classes": [],
            "_model_module": "@jupyter-widgets/controls",
            "_model_module_version": "1.5.0",
            "_model_name": "ButtonModel",
            "_view_count": null,
            "_view_module": "@jupyter-widgets/controls",
            "_view_module_version": "1.5.0",
            "_view_name": "ButtonView",
            "button_style": "",
            "description": "Analyze Logins",
            "disabled": false,
            "icon": "check",
            "layout": "IPY_MODEL_434246a91260485aa1db1bf0d6938a8f",
            "style": "IPY_MODEL_e82b425dbeba4371acda86faca30e87b",
            "tooltip": ""
          }
        },
        "8afd8b6c823f4f27ab5d92ed066518f9": {
          "model_module": "@jupyter-widgets/output",
          "model_name": "OutputModel",
          "model_module_version": "1.0.0",
          "state": {
            "_dom_classes": [],
            "_model_module": "@jupyter-widgets/output",
            "_model_module_version": "1.0.0",
            "_model_name": "OutputModel",
            "_view_count": null,
            "_view_module": "@jupyter-widgets/output",
            "_view_module_version": "1.0.0",
            "_view_name": "OutputView",
            "layout": "IPY_MODEL_8425b08e47ae4b63b727291a3cbdcc47",
            "msg_id": "",
            "outputs": [
              {
                "output_type": "stream",
                "name": "stdout",
                "text": [
                  "Username: tamara\n",
                  "Current Day Logins: 7\n",
                  "Average Day Logins: 3\n",
                  "Login Ratio: 2.33\n"
                ]
              }
            ]
          }
        },
        "496014afe58846c4a149901a27d09f24": {
          "model_module": "@jupyter-widgets/base",
          "model_name": "LayoutModel",
          "model_module_version": "1.2.0",
          "state": {
            "_model_module": "@jupyter-widgets/base",
            "_model_module_version": "1.2.0",
            "_model_name": "LayoutModel",
            "_view_count": null,
            "_view_module": "@jupyter-widgets/base",
            "_view_module_version": "1.2.0",
            "_view_name": "LayoutView",
            "align_content": null,
            "align_items": null,
            "align_self": null,
            "border": null,
            "bottom": null,
            "display": null,
            "flex": null,
            "flex_flow": null,
            "grid_area": null,
            "grid_auto_columns": null,
            "grid_auto_flow": null,
            "grid_auto_rows": null,
            "grid_column": null,
            "grid_gap": null,
            "grid_row": null,
            "grid_template_areas": null,
            "grid_template_columns": null,
            "grid_template_rows": null,
            "height": null,
            "justify_content": null,
            "justify_items": null,
            "left": null,
            "margin": null,
            "max_height": null,
            "max_width": null,
            "min_height": null,
            "min_width": null,
            "object_fit": null,
            "object_position": null,
            "order": null,
            "overflow": null,
            "overflow_x": null,
            "overflow_y": null,
            "padding": null,
            "right": null,
            "top": null,
            "visibility": null,
            "width": null
          }
        },
        "6eb208c5cf904ceead4275eaf789a059": {
          "model_module": "@jupyter-widgets/base",
          "model_name": "LayoutModel",
          "model_module_version": "1.2.0",
          "state": {
            "_model_module": "@jupyter-widgets/base",
            "_model_module_version": "1.2.0",
            "_model_name": "LayoutModel",
            "_view_count": null,
            "_view_module": "@jupyter-widgets/base",
            "_view_module_version": "1.2.0",
            "_view_name": "LayoutView",
            "align_content": null,
            "align_items": null,
            "align_self": null,
            "border": null,
            "bottom": null,
            "display": null,
            "flex": null,
            "flex_flow": null,
            "grid_area": null,
            "grid_auto_columns": null,
            "grid_auto_flow": null,
            "grid_auto_rows": null,
            "grid_column": null,
            "grid_gap": null,
            "grid_row": null,
            "grid_template_areas": null,
            "grid_template_columns": null,
            "grid_template_rows": null,
            "height": null,
            "justify_content": null,
            "justify_items": null,
            "left": null,
            "margin": null,
            "max_height": null,
            "max_width": null,
            "min_height": null,
            "min_width": null,
            "object_fit": null,
            "object_position": null,
            "order": null,
            "overflow": null,
            "overflow_x": null,
            "overflow_y": null,
            "padding": null,
            "right": null,
            "top": null,
            "visibility": null,
            "width": null
          }
        },
        "2034d3870fdb4c7c8d53fee05b8c4207": {
          "model_module": "@jupyter-widgets/controls",
          "model_name": "DescriptionStyleModel",
          "model_module_version": "1.5.0",
          "state": {
            "_model_module": "@jupyter-widgets/controls",
            "_model_module_version": "1.5.0",
            "_model_name": "DescriptionStyleModel",
            "_view_count": null,
            "_view_module": "@jupyter-widgets/base",
            "_view_module_version": "1.2.0",
            "_view_name": "StyleView",
            "description_width": ""
          }
        },
        "434246a91260485aa1db1bf0d6938a8f": {
          "model_module": "@jupyter-widgets/base",
          "model_name": "LayoutModel",
          "model_module_version": "1.2.0",
          "state": {
            "_model_module": "@jupyter-widgets/base",
            "_model_module_version": "1.2.0",
            "_model_name": "LayoutModel",
            "_view_count": null,
            "_view_module": "@jupyter-widgets/base",
            "_view_module_version": "1.2.0",
            "_view_name": "LayoutView",
            "align_content": null,
            "align_items": null,
            "align_self": null,
            "border": null,
            "bottom": null,
            "display": null,
            "flex": null,
            "flex_flow": null,
            "grid_area": null,
            "grid_auto_columns": null,
            "grid_auto_flow": null,
            "grid_auto_rows": null,
            "grid_column": null,
            "grid_gap": null,
            "grid_row": null,
            "grid_template_areas": null,
            "grid_template_columns": null,
            "grid_template_rows": null,
            "height": null,
            "justify_content": null,
            "justify_items": null,
            "left": null,
            "margin": null,
            "max_height": null,
            "max_width": null,
            "min_height": null,
            "min_width": null,
            "object_fit": null,
            "object_position": null,
            "order": null,
            "overflow": null,
            "overflow_x": null,
            "overflow_y": null,
            "padding": null,
            "right": null,
            "top": null,
            "visibility": null,
            "width": null
          }
        },
        "e82b425dbeba4371acda86faca30e87b": {
          "model_module": "@jupyter-widgets/controls",
          "model_name": "ButtonStyleModel",
          "model_module_version": "1.5.0",
          "state": {
            "_model_module": "@jupyter-widgets/controls",
            "_model_module_version": "1.5.0",
            "_model_name": "ButtonStyleModel",
            "_view_count": null,
            "_view_module": "@jupyter-widgets/base",
            "_view_module_version": "1.2.0",
            "_view_name": "StyleView",
            "button_color": null,
            "font_weight": ""
          }
        },
        "8425b08e47ae4b63b727291a3cbdcc47": {
          "model_module": "@jupyter-widgets/base",
          "model_name": "LayoutModel",
          "model_module_version": "1.2.0",
          "state": {
            "_model_module": "@jupyter-widgets/base",
            "_model_module_version": "1.2.0",
            "_model_name": "LayoutModel",
            "_view_count": null,
            "_view_module": "@jupyter-widgets/base",
            "_view_module_version": "1.2.0",
            "_view_name": "LayoutView",
            "align_content": null,
            "align_items": null,
            "align_self": null,
            "border": null,
            "bottom": null,
            "display": null,
            "flex": null,
            "flex_flow": null,
            "grid_area": null,
            "grid_auto_columns": null,
            "grid_auto_flow": null,
            "grid_auto_rows": null,
            "grid_column": null,
            "grid_gap": null,
            "grid_row": null,
            "grid_template_areas": null,
            "grid_template_columns": null,
            "grid_template_rows": null,
            "height": null,
            "justify_content": null,
            "justify_items": null,
            "left": null,
            "margin": null,
            "max_height": null,
            "max_width": null,
            "min_height": null,
            "min_width": null,
            "object_fit": null,
            "object_position": null,
            "order": null,
            "overflow": null,
            "overflow_x": null,
            "overflow_y": null,
            "padding": null,
            "right": null,
            "top": null,
            "visibility": null,
            "width": null
          }
        }
      }
    }
  },
  "nbformat_minor": 0,
  "nbformat": 4,
  "cells": [
    {
      "cell_type": "markdown",
      "source": [
        "# Streamlined Security with Python Case Study"
      ],
      "metadata": {
        "id": "Jaurs3usvWl_"
      }
    },
    {
      "cell_type": "markdown",
      "source": [
        "## Proposed Resolution"
      ],
      "metadata": {
        "id": "bo4lzvSNOgf3"
      }
    },
    {
      "cell_type": "markdown",
      "source": [
        "## Scenario 1: Automating the Login Process"
      ],
      "metadata": {
        "id": "6ln7qtoePxRX"
      }
    },
    {
      "cell_type": "markdown",
      "source": [
        "## Task\n",
        "\n"
      ],
      "metadata": {
        "id": "caDM98GxK4zi"
      }
    },
    {
      "cell_type": "code",
      "source": [
        "# Define lists of approved users and their corresponding assigned devices\n",
        "approved_users = [\"vanessa\", \"kevin\", \"maria\", \"tamara\"]\n",
        "approved_devices = [\"245ahw\", \"fkdjs238\", \"9hfks12\", \"sdfhksd2\"]\n",
        "\n",
        "# Function to validate login credentials based on username and device ID\n",
        "def login(username, device_id):\n",
        "    # Check if the username exists in the approved users list\n",
        "    if username in approved_users:\n",
        "        print(\"The user\", username, \"is approved.\")\n",
        "\n",
        "        # Retrieve the index of the username in the approved users list\n",
        "        ind = approved_users.index(username)\n",
        "\n",
        "        # Check if the provided device ID matches the assigned device for this user\n",
        "        if device_id == approved_devices[ind]:\n",
        "            print(device_id, \"is the assigned device for\", username)\n",
        "        else:\n",
        "            # Handle the case where the device ID does not match\n",
        "            print(device_id, \"is not their assigned device.\")\n",
        "    else:\n",
        "        # Handle the case where the username is not approved\n",
        "        print(\"The username\", username, \"is not approved to access the system.\")\n",
        "\n",
        "# Test cases to validate the login function\n",
        "login(\"vanessa\", \"245ahw\")  # Valid user and correct device ID\n",
        "login(\"tamara\", \"fkdjs238\")  # Valid user and correct device ID\n",
        "login(\"tom\", \"309jrt8srt\")  # Invalid user\n",
        "login(\"nate\", \"342dfsf\")   # Invalid user\n",
        "login(\"Tamara\", \"sdfhksd2\")  # Valid device ID but incorrect username capitalization\n",
        "login(\"maria\", \"teqi4\")     # Valid user but incorrect device ID\n"
      ],
      "metadata": {
        "colab": {
          "base_uri": "https://localhost:8080/"
        },
        "id": "dTDzNP2jK_y-",
        "outputId": "c467e62b-ed5d-4f77-f183-c4cae222e8f8",
        "trusted": true
      },
      "outputs": [
        {
          "output_type": "stream",
          "name": "stdout",
          "text": [
            "The user vanessa is approved.\n",
            "245ahw is the assigned device for vanessa\n",
            "The user tamara is approved.\n",
            "fkdjs238 is not their assigned device.\n",
            "The username tom is not approved to access the system.\n",
            "The username nate is not approved to access the system.\n",
            "The username Tamara is not approved to access the system.\n",
            "The user maria is approved.\n",
            "teqi4 is not their assigned device.\n"
          ]
        }
      ],
      "execution_count": 14
    },
    {
      "cell_type": "markdown",
      "source": [
        "## Scenario 2: Analyzing Login Activities"
      ],
      "metadata": {
        "id": "j86zcYrQBE4J"
      }
    },
    {
      "cell_type": "markdown",
      "source": [
        "## Task"
      ],
      "metadata": {
        "id": "EhM6kXaytv7M"
      }
    },
    {
      "cell_type": "code",
      "source": [
        "# Model 1: # Define lists for approved users and their login activity\n",
        "usernames = [\"vanessa\", \"kevin\", \"maria\", \"tamara\"]  # Approved usernames\n",
        "current_day_logins = [10, 8, 4, 7]  # Number of logins recorded for each user on the current day\n",
        "average_day_logins = [5, 6, 9, 3]  # Average number of daily logins for each user\n",
        "\n",
        "# Function to analyze login activity for a specific user\n",
        "def analyze_logins(username, current_day, average_day):\n",
        "    # Check if the username exists in the list of approved usernames\n",
        "    if username in usernames:\n",
        "        print(\"The user\", username, \"is approved.\")\n",
        "\n",
        "        # Get the index of the username to match their login records\n",
        "        ind = usernames.index(username)\n",
        "\n",
        "        # Validate the current day's login count against the stored record\n",
        "        if current_day_logins[ind] == current_day:\n",
        "            print(\"The user has logged in\", current_day, \"times today.\")\n",
        "        else:\n",
        "            # Handle mismatch in current day login count\n",
        "            print(\"The current day login record for\", username, \"is not valid.\")\n",
        "\n",
        "        # Validate the average daily login count against the stored record\n",
        "        if average_day_logins[ind] == average_day:\n",
        "            print(\"The user's average login count is\", average_day, \"per day.\")\n",
        "        else:\n",
        "            # Handle mismatch in average daily login count\n",
        "            print(\"The average day login record for\", username, \"is not valid.\")\n",
        "    else:\n",
        "        # Handle the case where the username is not on the approved list\n",
        "        print(\"The username\", username, \"is not approved to access the system.\")\n",
        "\n",
        "# Test the function with different scenarios\n",
        "analyze_logins(\"vanessa\", 10, 5)   # Approved user but incorrect login records\n",
        "analyze_logins(\"kevin\", 8, 6)     # Approved user but incorrect login records\n",
        "analyze_logins(\"maria\", 4, 1)     # Approved user but incorrect login records\n",
        "analyze_logins(\"Maria\", 3, 9)     # Unapproved user due to case sensitivity\n",
        "analyze_logins(\"tamara\", 7, 3)    # Approved user but incorrect login records"
      ],
      "metadata": {
        "colab": {
          "base_uri": "https://localhost:8080/"
        },
        "id": "afDIGb9nQ8_x",
        "outputId": "f0171985-af6b-496c-e3ea-b1a76f97ee0d",
        "trusted": true
      },
      "outputs": [
        {
          "output_type": "stream",
          "name": "stdout",
          "text": [
            "The user vanessa is approved.\n",
            "The user has logged in 10 times today.\n",
            "The user's average login count is 5 per day.\n",
            "The user kevin is approved.\n",
            "The user has logged in 8 times today.\n",
            "The user's average login count is 6 per day.\n",
            "The user maria is approved.\n",
            "The user has logged in 4 times today.\n",
            "The average day login record for maria is not valid.\n",
            "The username Maria is not approved to access the system.\n",
            "The user tamara is approved.\n",
            "The user has logged in 7 times today.\n",
            "The user's average login count is 3 per day.\n"
          ]
        }
      ],
      "execution_count": 15
    },
    {
      "cell_type": "code",
      "source": [
        "# Install the necessary package if not already installed\n",
        "# pip install ipywidgets\n",
        "\n",
        "# Display the widget for data list\n",
        "from ipywidgets import widgets, Layout\n",
        "from IPython.display import display\n",
        "\n",
        "# Define the data lists\n",
        "usernames = [\"vanessa\", \"kevin\", \"maria\", \"tamara\"]\n",
        "current_day_logins = [10, 8, 4, 7]\n",
        "average_day_logins = [5, 6, 9, 3]\n",
        "\n",
        "# Define the dropdown widget for usernames\n",
        "username_widget = widgets.Dropdown(\n",
        "    options=usernames,\n",
        "    description='Username:',\n",
        "    layout=Layout(width='40%')\n",
        ")\n",
        "\n",
        "# Output widget for displaying details\n",
        "output = widgets.Output()\n",
        "\n",
        "# Display the widget and output area\n",
        "display(username_widget, output)\n",
        "\n",
        "# Define the update function to display login details\n",
        "def update_login_details(change):\n",
        "    output.clear_output()  # Clear the previous output\n",
        "    username = change['new']  # Get the selected username\n",
        "    if username in usernames:\n",
        "        ind = usernames.index(username)  # Find the index of the username\n",
        "        current_day = current_day_logins[ind]\n",
        "        average_day = average_day_logins[ind]\n",
        "        with output:\n",
        "            print(f\"Username: {username}\")\n",
        "            print(f\"Current Day Logins: {current_day}\")\n",
        "            print(f\"Average Day Logins: {average_day}\")\n",
        "    else:\n",
        "        with output:\n",
        "            print(\"Please select a valid username.\")\n",
        "\n",
        "# Attach the update function to the username widget\n",
        "username_widget.observe(update_login_details, names='value')"
      ],
      "metadata": {
        "trusted": true,
        "colab": {
          "base_uri": "https://localhost:8080/",
          "height": 101,
          "referenced_widgets": [
            "a4b50079ca9a4e71bcec44c46b374f36",
            "4a784da92c464259b750a23fdd15e1a4",
            "5f9f5d0258544bdf8de44ae968fef317",
            "b9e70b94e8ee4464a0a091186d0e1c8c",
            "b76071f5976546aabfb31795543defc9"
          ]
        },
        "id": "gsRY5C1OBE4K",
        "outputId": "33e6de8e-a50c-43c8-cecb-5c55260c37cf"
      },
      "outputs": [
        {
          "output_type": "display_data",
          "data": {
            "text/plain": [
              "Dropdown(description='Username:', layout=Layout(width='40%'), options=('vanessa', 'kevin', 'maria', 'tamara'),…"
            ],
            "application/vnd.jupyter.widget-view+json": {
              "version_major": 2,
              "version_minor": 0,
              "model_id": "a4b50079ca9a4e71bcec44c46b374f36"
            }
          },
          "metadata": {}
        },
        {
          "output_type": "display_data",
          "data": {
            "text/plain": [
              "Output()"
            ],
            "application/vnd.jupyter.widget-view+json": {
              "version_major": 2,
              "version_minor": 0,
              "model_id": "b9e70b94e8ee4464a0a091186d0e1c8c"
            }
          },
          "metadata": {}
        }
      ],
      "execution_count": 16
    },
    {
      "cell_type": "code",
      "source": [
        "# Model 2: Lists of approved users, current day logins, and average day logins\n",
        "usernames = [\"vanessa\", \"kevin\", \"maria\", \"tamara\"]\n",
        "current_day_logins = [10, 8, 4, 7]\n",
        "average_day_logins = [5, 6, 9, 3]\n",
        "\n",
        "# Define a function to analyze login activity with detailed checks\n",
        "def analyze_logins(username, current_day, average_day):\n",
        "    # Verify if the username is present in the list of approved usernames\n",
        "    if username in usernames:\n",
        "        print(\"The user\", username, \"is approved.\")\n",
        "\n",
        "        # Retrieve the index of the username in the list\n",
        "        ind = usernames.index(username)\n",
        "\n",
        "        # Display the username\n",
        "        print(f\"Username: {username}\")\n",
        "\n",
        "        # Validate and display current day login count\n",
        "        if current_day == current_day_logins[ind]:\n",
        "            print(f\"Current Day Logins: {current_day}\")\n",
        "        else:\n",
        "            # Exit early if the provided current day login count is invalid\n",
        "            print(f\"Current day login record for {username} does not match. Expected: {current_day_logins[ind]}, Provided: {current_day}\")\n",
        "            return\n",
        "\n",
        "        # Display the average day login count for the user\n",
        "        print(f\"Average Day Logins: {average_day_logins[ind]}\")\n",
        "\n",
        "        # Ensure the provided average day login count matches the record\n",
        "        if average_day == average_day_logins[ind]:\n",
        "            # Calculate and display the login ratio (current day logins / average day logins)\n",
        "            login_ratio = current_day / average_day\n",
        "            print(f\"Login Ratio: {login_ratio:.2f}\")\n",
        "\n",
        "            # Flag the account if the login ratio exceeds 3, indicating higher than normal activity\n",
        "            if login_ratio > 3:\n",
        "                print(\"This account has MORE login activity than normal.\")\n",
        "    else:\n",
        "        # Display a message if the username is not on the approved list\n",
        "        print(\"The username\", username, \"is not approved to access the system.\")\n",
        "\n",
        "# Test the function with various inputs\n",
        "analyze_logins(\"kevin\", 8, 6)          # Valid case with matching logins\n",
        "analyze_logins(\"maria\", 4, 9)          # Valid case with normal activity\n",
        "analyze_logins(\"tamara\", 7, 3)         # High activity case, ratio > 3\n",
        "analyze_logins(\"Tamara\", 8, 3)         # Invalid due to case sensitivity in username\n",
        "analyze_logins(\"tamara\", 7, 3)         # Valid case with normal activity\n",
        "analyze_logins(\"tamara\", 1, 2)         # Valid case with low activity"
      ],
      "metadata": {
        "trusted": true,
        "colab": {
          "base_uri": "https://localhost:8080/"
        },
        "id": "KFH51HDcBE4L",
        "outputId": "fae37eb4-87b6-4ae1-a68d-0aeb2d705e2a"
      },
      "outputs": [
        {
          "output_type": "stream",
          "name": "stdout",
          "text": [
            "The user kevin is approved.\n",
            "Username: kevin\n",
            "Current Day Logins: 8\n",
            "Average Day Logins: 6\n",
            "Login Ratio: 1.33\n",
            "The user maria is approved.\n",
            "Username: maria\n",
            "Current Day Logins: 4\n",
            "Average Day Logins: 1\n",
            "Login Ratio: 4.00\n",
            "This account has MORE login activity than normal.\n",
            "The user tamara is approved.\n",
            "Username: tamara\n",
            "Current Day Logins: 7\n",
            "Average Day Logins: 3\n",
            "Login Ratio: 2.33\n",
            "The username Tamara is not approved to access the system.\n",
            "The user tamara is approved.\n",
            "Username: tamara\n",
            "Current Day Logins: 7\n",
            "Average Day Logins: 3\n",
            "The user tamara is approved.\n",
            "Username: tamara\n",
            "Current day login record for tamara does not match. Expected: 7, Provided: 1\n"
          ]
        }
      ],
      "execution_count": 4
    },
    {
      "cell_type": "code",
      "source": [
        "# Import necessary modules for creating interactive widgets\n",
        "from ipywidgets import Dropdown, Button, Output, VBox\n",
        "from IPython.display import display\n",
        "\n",
        "# Define lists of approved usernames, current day logins, and average day logins\n",
        "usernames = [\"vanessa\", \"kevin\", \"maria\", \"tamara\"]\n",
        "current_day_logins = [10, 8, 4, 7]\n",
        "average_day_logins = [5, 6, 9, 3]\n",
        "\n",
        "# Create a dropdown menu for selecting a username from the approved list\n",
        "username_dropdown = Dropdown(\n",
        "    options=usernames,  # Populate dropdown with approved usernames\n",
        "    description='Username:',  # Label for the dropdown\n",
        ")\n",
        "\n",
        "# Create a button to trigger the analysis process\n",
        "run_button = Button(\n",
        "    description='Analyze Logins',  # Text displayed on the button\n",
        "    button_style='',  # Optional styling ('success', 'info', 'warning', 'danger', etc.)\n",
        "    icon='check',  # Optional icon displayed on the button\n",
        ")\n",
        "\n",
        "# Create an output area to display results and messages\n",
        "output_area = Output()\n",
        "\n",
        "# Define a function to analyze and display login details for the selected username\n",
        "def display_login_details(username):\n",
        "    with output_area:\n",
        "        output_area.clear_output()  # Clear any previous output in the area\n",
        "        if username in usernames:\n",
        "            # Retrieve index and corresponding login data for the selected username\n",
        "            ind = usernames.index(username)\n",
        "            current_day = current_day_logins[ind]\n",
        "            average_day = average_day_logins[ind]\n",
        "            login_ratio = current_day / average_day if average_day else 0  # Handle zero division\n",
        "\n",
        "            # Display the retrieved login details\n",
        "            print(f\"Username: {username}\")\n",
        "            print(f\"Current Day Logins: {current_day}\")\n",
        "            print(f\"Average Day Logins: {average_day}\")\n",
        "\n",
        "            # Display the login ratio if average day logins is not zero\n",
        "            if average_day:\n",
        "                print(f\"Login Ratio: {login_ratio:.2f}\")\n",
        "\n",
        "                # Flag high login activity if the ratio exceeds 3\n",
        "                if login_ratio > 3:\n",
        "                    print(\"This account has more login activity than normal.\")\n",
        "            else:\n",
        "                # Handle cases where average day logins is zero\n",
        "                print(\"Cannot calculate login ratio due to zero average day logins.\")\n",
        "        else:\n",
        "            # Display an error if the username is not found in the approved list\n",
        "            print(\"Username not found in the approved list.\")\n",
        "\n",
        "# Define an event handler for the button to trigger the analysis process\n",
        "def on_run_button_clicked(b):\n",
        "    display_login_details(username_dropdown.value)\n",
        "\n",
        "# Attach the event handler to the \"Analyze Logins\" button\n",
        "run_button.on_click(on_run_button_clicked)\n",
        "\n",
        "# Display the interactive widgets (dropdown, button, and output area) in a vertical layout\n",
        "display(VBox([username_dropdown, run_button, output_area]))"
      ],
      "metadata": {
        "trusted": true,
        "colab": {
          "base_uri": "https://localhost:8080/",
          "height": 150,
          "referenced_widgets": [
            "9493a9fd0c964e4f802b602e80d4149b",
            "9026f642082f40e9b32b300e137377d1",
            "c3ecf2edb078418295ad5d832c283c27",
            "8afd8b6c823f4f27ab5d92ed066518f9",
            "496014afe58846c4a149901a27d09f24",
            "6eb208c5cf904ceead4275eaf789a059",
            "2034d3870fdb4c7c8d53fee05b8c4207",
            "434246a91260485aa1db1bf0d6938a8f",
            "e82b425dbeba4371acda86faca30e87b",
            "8425b08e47ae4b63b727291a3cbdcc47"
          ]
        },
        "id": "lvYSlvdbBE4M",
        "outputId": "ae435ffe-9b8a-4557-8e2d-74310a574cb6"
      },
      "outputs": [
        {
          "output_type": "display_data",
          "data": {
            "text/plain": [
              "VBox(children=(Dropdown(description='Username:', options=('vanessa', 'kevin', 'maria', 'tamara'), value='vanes…"
            ],
            "application/vnd.jupyter.widget-view+json": {
              "version_major": 2,
              "version_minor": 0,
              "model_id": "9493a9fd0c964e4f802b602e80d4149b"
            }
          },
          "metadata": {}
        }
      ],
      "execution_count": 17
    },
    {
      "cell_type": "markdown",
      "source": [
        "## Scenario 3: Finding Patterns Using Regular Expressions"
      ],
      "metadata": {
        "id": "z0rjZxrtHvvo"
      }
    },
    {
      "cell_type": "markdown",
      "source": [
        "## Task 3\n",
        "\n"
      ],
      "metadata": {
        "id": "Lp2OMa4VPNHE"
      }
    },
    {
      "cell_type": "code",
      "source": [
        "import re"
      ],
      "metadata": {
        "id": "7IWaiDsWChuy",
        "trusted": true
      },
      "outputs": [],
      "execution_count": 7
    },
    {
      "cell_type": "code",
      "source": [
        "# Malware signature extraction\n",
        "data = \"The malware signature is 0x9ACDAB and needs analysis.\"\n",
        "# Regular expression to match the hexadecimal malware signature\n",
        "hex_signatures = re.findall(r\"\\b0x[a-fA-F0-9]+\\b\", data)\n",
        "print(\"Found Malware Signatures:\", hex_signatures)  # ['0x9ACDAB']"
      ],
      "metadata": {
        "trusted": true,
        "colab": {
          "base_uri": "https://localhost:8080/"
        },
        "id": "tNo2jF52BE4N",
        "outputId": "e20729b1-7675-4f95-cfd5-b8321d5188b7"
      },
      "outputs": [
        {
          "output_type": "stream",
          "name": "stdout",
          "text": [
            "Found Malware Signatures: ['0x9ACDAB']\n"
          ]
        }
      ],
      "execution_count": 20
    },
    {
      "cell_type": "raw",
      "source": [
        "['0x9ACDAB']"
      ],
      "metadata": {
        "id": "juD-uecJBE4O"
      }
    },
    {
      "cell_type": "code",
      "source": [
        "# Define a string `devices` containing multiple device IDs, each represented by a sequence of alphanumeric characters\n",
        "devices = \"9x482kt 6oa6m6u 253be78 r15u9q5 ac742a1 x3463ac g07h55q 41j1u2e i4l56nq r262c36 ii286fq zh86b2l ii286fq r151dm4 r15xk9h 1270t3o 2j33krk 081qc9t zh86b2l r159r1u 42dr56i 67bv8fy\"\n",
        "\n",
        "# Define a regular expression pattern `target_pattern` to match device IDs starting with \"r15\" followed by one or more alphanumeric characters\n",
        "target_pattern = r\"r15\\w+\"\n",
        "\n",
        "# Use the `re.findall()` function to search for all device IDs in `devices` that match the specified pattern\n",
        "# The function returns a list of all matching device IDs\n",
        "device_ids = (re.findall(target_pattern, devices))\n",
        "print(\"Device IDs starting with 'r15':\", device_ids)  # List of matching device IDs"
      ],
      "metadata": {
        "trusted": true,
        "colab": {
          "base_uri": "https://localhost:8080/"
        },
        "id": "D8RNunhgBE4O",
        "outputId": "a19032ed-8e74-4ab7-f86e-fb2c0423a231"
      },
      "outputs": [
        {
          "output_type": "stream",
          "name": "stdout",
          "text": [
            "Device IDs starting with 'r15': ['r15u9q5', 'r151dm4', 'r15xk9h', 'r159r1u']\n"
          ]
        }
      ],
      "execution_count": 23
    },
    {
      "cell_type": "raw",
      "source": [
        "['r15u9q5', 'r151dm4', 'r15xk9h', 'r159r1u']"
      ],
      "metadata": {
        "id": "mJpB09K9BE4O"
      }
    },
    {
      "cell_type": "code",
      "source": [
        "# Define a string `log_file` that contains multiple login attempt entries\n",
        "# Each entry includes a username, date, time, and an IP address\n",
        "log_file = \"daquino 22024-11-08 7:02:35 192.168.168.144 \\rjensen 2024-11-20 0:59:26 192.168.213.128 \\cjackson 2025-01-05 19:36:42 192.168.247.153 \\iuduike 2024-11-15 6:46:40 192.168.22.115 \\jrafael 2024-12-01 22:40:01 192.168.148.115 \\smartell 2024-11-25 19:30:32 192.168.190.178 \\asundara 2024-12-10 18:38:07 192.168.96.200 \\arutley 2025-01-12 17:00:59 1923.1689.3.24 \\dkot 2024-12-20 10:52:00 1921.168.1283.75 \\aestrada 2024-11-30 19:28:12 1924.1680.27.57 \\abernard 2025-01-18 23:38:46 19245.168.2345.49 \\alevitsk 2024-11-05 12:09:10 192.16874.1390.176 \\jclark 2024-11-12 10:48:02 192.168.174.117 \\eraab 2024-11-22 6:03:41 192.168.152.148 \\yappiah 2025-01-09 10:37:22 192.168.103.10654\"\n",
        "\n",
        "# Define a regular expression pattern `pattern` to match valid IP addresses of the format xxx.xxx.xxx.xxx\n",
        "# This pattern specifically matches four groups of three digits separated by periods\n",
        "# Note: The provided pattern may match invalid IP formats if octets exceed three digits (e.g., 1923.1689.3.24)\n",
        "pattern = r\"\\d{1,3}\\.\\d{1,3}\\.\\d{1,3}\\.\\d{1,3}\"\n",
        "\n",
        "# Use the `re.findall()` function to extract all substrings from `log_file` that match the IP address pattern\n",
        "# The function returns a list of all matched IP-like substrings\n",
        "valid_ip_addresses = (re.findall(pattern, log_file))\n",
        "print(\"Valid IP addresses found:\", valid_ip_addresses)"
      ],
      "metadata": {
        "trusted": true,
        "colab": {
          "base_uri": "https://localhost:8080/"
        },
        "id": "wvqffItgBE4O",
        "outputId": "d029cf09-6e7f-4e45-fc16-10b8346687b7"
      },
      "outputs": [
        {
          "output_type": "stream",
          "name": "stdout",
          "text": [
            "Valid IP addresses found: ['192.168.168.144', '192.168.213.128', '192.168.247.153', '192.168.22.115', '192.168.148.115', '192.168.190.178', '192.168.96.200', '192.168.174.117', '192.168.152.148', '192.168.103.106']\n"
          ]
        }
      ],
      "execution_count": 24
    },
    {
      "cell_type": "raw",
      "source": [
        "'192.168.152.148', '192.168.190.178', '192.168.213.128', '192.168.247.153', '192.168.174.117', '192.168.148.115', '192.168.103.106', '192.168.168.144']"
      ],
      "metadata": {
        "id": "P004v3OVBE4P"
      }
    },
    {
      "cell_type": "code",
      "source": [
        "# Define `log_file` as a string containing login attempts, where each record includes:\n",
        "# a username, date, login time, and an associated IP address\n",
        "log_file = \"daquino 22024-11-08 7:02:35 192.168.168.144 \\rjensen 2024-11-20 0:59:26 192.168.213.128 \\cjackson 2025-01-05 19:36:42 192.168.247.153 \\iuduike 2024-11-15 6:46:40 192.168.22.115 \\jrafael 2024-12-01 22:40:01 192.168.148.115 \\smartell 2024-11-25 19:30:32 192.168.190.178 \\asundara 2024-12-10 18:38:07 192.168.96.200 \\arutley 2025-01-12 17:00:59 1923.1689.3.24 \\dkot 2024-12-20 10:52:00 1921.168.1283.75 \\aestrada 2024-11-30 19:28:12 1924.1680.27.57 \\abernard 2025-01-18 23:38:46 19245.168.2345.49 \\alevitsk 2024-11-05 12:09:10 192.16874.1390.176 \\jclark 2024-11-12 10:48:02 192.168.174.117 \\eraab 2024-11-22 6:03:41 192.168.152.148 \\yappiah 2025-01-09 10:37:22 192.168.103.10654\"\n",
        "\n",
        "# Define `pattern` as a regular expression to identify valid IPv4 addresses\n",
        "# The pattern matches four groups of 1 to 3 digits separated by dots\n",
        "pattern = r\"\\d{1,3}\\.\\d{1,3}\\.\\d{1,3}\\.\\d{1,3}\"\n",
        "\n",
        "# Use `re.findall()` to extract all valid IPv4 addresses from `log_file`\n",
        "# The result is stored in `valid_ip_addresses`\n",
        "valid_ip_addresses = re.findall(pattern, log_file)\n",
        "\n",
        "# Define `flagged_addresses` as a list of IP addresses identified for unusual activity\n",
        "flagged_addresses = [\"192.168.247.153\", \"192.168.22.115\", \"1924.1680.27.57\", \"192.168.152.148\"]\n",
        "\n",
        "# Iterate through each `address` in `valid_ip_addresses`\n",
        "for address in valid_ip_addresses:\n",
        "\n",
        "    # Check if the `address` is in the `flagged_addresses` list\n",
        "    # If it is flagged, display a message indicating that further analysis is required\n",
        "    # If the `address` is not flagged, display a message indicating no further analysis is needed\n",
        "    if address in flagged_addresses:\n",
        "        print(f\"The IP address {address} has been flagged for further analysis.\")\n",
        "    else:\n",
        "        print(f\"The IP address {address} does not require further analysis.\")"
      ],
      "metadata": {
        "trusted": true,
        "colab": {
          "base_uri": "https://localhost:8080/"
        },
        "id": "YrsacInHBE4P",
        "outputId": "d0e6ea10-6730-4eb6-ba84-3dcdd9c11221"
      },
      "outputs": [
        {
          "output_type": "stream",
          "name": "stdout",
          "text": [
            "The IP address 192.168.168.144 does not require further analysis.\n",
            "The IP address 192.168.213.128 does not require further analysis.\n",
            "The IP address 192.168.247.153 has been flagged for further analysis.\n",
            "The IP address 192.168.22.115 has been flagged for further analysis.\n",
            "The IP address 192.168.148.115 does not require further analysis.\n",
            "The IP address 192.168.190.178 does not require further analysis.\n",
            "The IP address 192.168.96.200 does not require further analysis.\n",
            "The IP address 192.168.174.117 does not require further analysis.\n",
            "The IP address 192.168.152.148 has been flagged for further analysis.\n",
            "The IP address 192.168.103.106 does not require further analysis.\n"
          ]
        }
      ],
      "execution_count": 25
    },
    {
      "cell_type": "raw",
      "source": [
        "The IP address 192.168.152.148 does not require further analysis.\n",
        "The IP address 192.168.22.115 does not require further analysis.\n",
        "The IP address 192.168.190.178 has been flagged for further analysis.\n",
        "The IP address 192.168.213.128 does not require further analysis.\n",
        "The IP address 192.168.96.200 has been flagged for further analysis.\n",
        "The IP address 192.168.247.153 does not require further analysis.\n",
        "The IP address 192.168.174.117 has been flagged for further analysis.\n",
        "The IP address 192.168.148.115 does not require further analysis.\n",
        "The IP address 192.168.103.106 does not require further analysis.\n",
        "The IP address 192.168.168.144 has been flagged for further analysis."
      ],
      "metadata": {
        "id": "2-NdZ6s2BE4Q"
      }
    }
  ]
}